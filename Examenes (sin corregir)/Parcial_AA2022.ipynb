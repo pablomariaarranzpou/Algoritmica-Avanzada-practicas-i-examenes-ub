{
 "cells": [
  {
   "cell_type": "markdown",
   "metadata": {
    "tags": []
   },
   "source": [
    "<div style=\"padding:30px; color: white; background-color: #0071CD\">\n",
    "<center>\n",
    "<center>\n",
    "<h1>Algorísmica Avançada 2022</h1>\n",
    "<h2>Examen parcial</h2>\n",
    "</center>\n",
    "</div>"
   ]
  },
  {
   "cell_type": "code",
   "execution_count": 1,
   "metadata": {},
   "outputs": [
    {
     "data": {
      "text/html": [
       "<style>.container { width:100% !important; }</style>"
      ],
      "text/plain": [
       "<IPython.core.display.HTML object>"
      ]
     },
     "metadata": {},
     "output_type": "display_data"
    }
   ],
   "source": [
    "from IPython.display import display, HTML\n",
    "display(HTML(\"<style>.container { width:100% !important; }</style>\"))"
   ]
  },
  {
   "cell_type": "code",
   "execution_count": 2,
   "metadata": {},
   "outputs": [],
   "source": [
    "import numpy as np"
   ]
  },
  {
   "cell_type": "code",
   "execution_count": 3,
   "metadata": {},
   "outputs": [],
   "source": [
    "def display_grid(grid, visited=set()):     \n",
    "    \"\"\"\n",
    "    Funció auxiliar per a mostrar la graella de nombres\n",
    "    \n",
    "    Params\n",
    "    ======\n",
    "    :grid: Un array de numpy\n",
    "    :visited: El conjunt a mostrar d'un color diferent\n",
    "    \"\"\"\n",
    "    \n",
    "    if len(visited)>0:\n",
    "        print(f'Component formada per {len(visited)} nombres')\n",
    "        \n",
    "    for i in range(len(grid)):\n",
    "        print('-'*(5*len(grid[0])+1))\n",
    "        print('| ', end=\"\")\n",
    "        \n",
    "        for j in range(len(grid[0])):\n",
    "            if (i,j) in visited:\n",
    "                print(f\"\\x1b[1m\\x1b[31m{grid[i,j]:>2}\\x1b[0m\", end=' | ')\n",
    "            else:\n",
    "                print(f\"\\x1b[1m\\x1b[36m{grid[i,j]:>2}\\x1b[0m\", end=' | ')\n",
    "        print()\n",
    "    print('-'*(5*len(grid[0])+1))"
   ]
  },
  {
   "cell_type": "markdown",
   "metadata": {},
   "source": [
    "<div class=\"alert alert-success\">\n",
    "<h1>Problema 1 (5 punts)</h1>\n",
    "<p>\n",
    "    Considereu una matriu rectangular, $A$, formada per nombres enters qualsevols entre 0 i 100.<br>   \n",
    "    Volem trobar el <b>conjunt de cel·les connectades més gran possible tal que totes les cel·les contenen nombres parells.</b> Considerem que cada una de les cel·les de la matriu està connectada amb els veïns d'esquerra, dreta, inferior i superior (si existeixen).<br>\n",
    "    La vostra solució ha d'estar basada en l'algorisme <b>DFS</b> usant l'estratègia recursiva vista a classe.<br><br>\n",
    "    Podeu implementar funcions auxiliars que us ajudin a resoldre l'exercici sense modificar els paràmetres d'entrada/sortida de la funció <b>max_component</b>.\n",
    "</p>    \n",
    "        \n",
    "</div>"
   ]
  },
  {
   "cell_type": "markdown",
   "metadata": {},
   "source": [
    "Observeu el següent exemple:\n",
    "    "
   ]
  },
  {
   "cell_type": "code",
   "execution_count": 4,
   "metadata": {},
   "outputs": [
    {
     "name": "stdout",
     "output_type": "stream",
     "text": [
      "----------------\n",
      "| \u001b[1m\u001b[36m12\u001b[0m | \u001b[1m\u001b[36m15\u001b[0m | \u001b[1m\u001b[36m43\u001b[0m | \n",
      "----------------\n",
      "| \u001b[1m\u001b[36m15\u001b[0m | \u001b[1m\u001b[36m28\u001b[0m | \u001b[1m\u001b[36m97\u001b[0m | \n",
      "----------------\n",
      "| \u001b[1m\u001b[36m44\u001b[0m | \u001b[1m\u001b[36m36\u001b[0m | \u001b[1m\u001b[36m30\u001b[0m | \n",
      "----------------\n"
     ]
    }
   ],
   "source": [
    "A = np.array([[12,15,43],[15,28,97],[44,36,30]])\n",
    "display_grid(A)"
   ]
  },
  {
   "cell_type": "markdown",
   "metadata": {},
   "source": [
    "A l'executar max_component ens haurà de retornar el conjunt dels índexs de totes les cel·les de la matriu que formin part de la component desitjada. En aquest cas: $idx = \\{(1, 1), (2, 0), (2, 1), (2, 2)\\}$. <br>Recordeu que, en Python, la primera coordenada correspon a la fila i la segona correspon a la columna.<br><br>\n",
    "A l'executar la funció **display_grid**, es mostren els elements en color vermell."
   ]
  },
  {
   "cell_type": "code",
   "execution_count": 5,
   "metadata": {},
   "outputs": [
    {
     "name": "stdout",
     "output_type": "stream",
     "text": [
      "Component formada per 4 nombres\n",
      "----------------\n",
      "| \u001b[1m\u001b[36m12\u001b[0m | \u001b[1m\u001b[36m15\u001b[0m | \u001b[1m\u001b[36m43\u001b[0m | \n",
      "----------------\n",
      "| \u001b[1m\u001b[36m15\u001b[0m | \u001b[1m\u001b[31m28\u001b[0m | \u001b[1m\u001b[36m97\u001b[0m | \n",
      "----------------\n",
      "| \u001b[1m\u001b[31m44\u001b[0m | \u001b[1m\u001b[31m36\u001b[0m | \u001b[1m\u001b[31m30\u001b[0m | \n",
      "----------------\n"
     ]
    }
   ],
   "source": [
    "idx = set([(1, 1), (2, 0), (2, 1), (2, 2)])\n",
    "display_grid(A, idx)"
   ]
  },
  {
   "cell_type": "code",
   "execution_count": 20,
   "metadata": {},
   "outputs": [],
   "source": [
    "#\n",
    "# LES TEVES FUNCIONS EXTRES AQUÍ\n",
    "#\n",
    "\n",
    "\n",
    "def caselles_veines(mat, casella):\n",
    "    \n",
    "    i = casella[0]\n",
    "    j = casella[1]\n",
    "    \n",
    "    result = []\n",
    "    \n",
    "    # Anirem amb compte que els veins no surtin de la matriu \n",
    "    \n",
    "    if(i + 1 < mat.shape[0]):\n",
    "        \n",
    "        result.append( (i + 1, j) )\n",
    "        \n",
    "    if(i - 1 >= 0):\n",
    "        \n",
    "        result.append( (i-1, j) )\n",
    "        \n",
    "    if(j + 1 < mat.shape[1]):\n",
    "        \n",
    "        result.append((i, j + 1))\n",
    "        \n",
    "    if(j - 1 >= 0):\n",
    "        \n",
    "        result.append((i, j - 1))\n",
    "    \n",
    "    return result\n",
    "\n",
    "def esParell(mat, casella):\n",
    "    \n",
    "    # Comprovem si la casella es parella o imparella\n",
    "    if(mat[casella[0], casella[1]] % 2 == 0):\n",
    "        \n",
    "        return True\n",
    "    else:\n",
    "        return False\n",
    "\n",
    "def dfs_matriu(mat, visited, casella):\n",
    "    \n",
    "    # Comprobem si la casella no ha estat visitada\n",
    "    if casella not in visited:\n",
    "        \n",
    "        visited.add(casella)\n",
    "        \n",
    "        # Només seguirem veient els seus veins si la casella es parella\n",
    "        if(esParell(mat, casella)):\n",
    "            \n",
    "            for i in caselles_veines(mat, casella):\n",
    "                \n",
    "                dfs_matriu(mat, visited, i)\n",
    "        else:\n",
    "            \n",
    "            # L´eliminem perque estem fent servir el set també per trobar les conexions\n",
    "            visited.remove(casella)\n",
    "\n",
    "    \n",
    "\n",
    "def max_component(mat):\n",
    "    \"\"\"\n",
    "    Aquesta funció troba el conjunt connectat més gran possible d'elements parells.\n",
    "    No cal implementar-ho tot en aquesta funció, podeu crear funcions auxiliars que resolguin alguna part del problema.\n",
    "    La vostra solució ha d'estar basada en l'algorisme DFS.\n",
    "    \n",
    "    Params\n",
    "    ======\n",
    "    :mat: Una matriu \n",
    "    \n",
    "    Returns\n",
    "    =======\n",
    "    :best_component: Un conjunt que conté tots els índexs (coordenades) dels elements que formen part de la component.\n",
    "    \"\"\"\n",
    "    best_component = set()\n",
    "    super_visited = set()\n",
    "    \n",
    "    # Recorrem cada casella per iniciar el bfs\n",
    "    for i in range(mat.shape[0]):\n",
    "        for j in range(mat.shape[1]):\n",
    "            \n",
    "            # Si ja hem expandit desde aquell component en la millor opció no la millorará\n",
    "            if((i, j) not in super_visited):\n",
    "                new_component = set()\n",
    "\n",
    "                dfs_matriu(mat, new_component, (i, j))\n",
    "                \n",
    "                #OPTIMIZACIÓN NO SE ME HA OCURRIDO EN EL EXAMEN\n",
    "                super_visited = super_visited | new_component\n",
    "\n",
    "                # Mirem si es més gran que la més gran que hem trobat fins ara\n",
    "                if len(new_component) > len(best_component):\n",
    "\n",
    "                    best_component = new_component\n",
    "        \n",
    "    \n",
    "    return best_component"
   ]
  },
  {
   "cell_type": "markdown",
   "metadata": {},
   "source": [
    "Proveu el vostre codi. No feu cas de la instrucció *seed*, serveix per a que sempre es generi la mateixa matriu."
   ]
  },
  {
   "cell_type": "code",
   "execution_count": 21,
   "metadata": {},
   "outputs": [
    {
     "name": "stdout",
     "output_type": "stream",
     "text": [
      "Component formada per 8 nombres\n",
      "---------------------\n",
      "| \u001b[1m\u001b[36m 9\u001b[0m | \u001b[1m\u001b[36m15\u001b[0m | \u001b[1m\u001b[31m64\u001b[0m | \u001b[1m\u001b[31m28\u001b[0m | \n",
      "---------------------\n",
      "| \u001b[1m\u001b[36m89\u001b[0m | \u001b[1m\u001b[36m93\u001b[0m | \u001b[1m\u001b[36m29\u001b[0m | \u001b[1m\u001b[31m 8\u001b[0m | \n",
      "---------------------\n",
      "| \u001b[1m\u001b[36m73\u001b[0m | \u001b[1m\u001b[31m 0\u001b[0m | \u001b[1m\u001b[31m40\u001b[0m | \u001b[1m\u001b[31m36\u001b[0m | \n",
      "---------------------\n",
      "| \u001b[1m\u001b[36m16\u001b[0m | \u001b[1m\u001b[36m11\u001b[0m | \u001b[1m\u001b[31m54\u001b[0m | \u001b[1m\u001b[31m88\u001b[0m | \n",
      "---------------------\n"
     ]
    }
   ],
   "source": [
    "np.random.seed(10)\n",
    "\n",
    "A = np.random.randint(0,100, size=(4,4))\n",
    "idx = max_component(A)\n",
    "display_grid(A, idx) # La component més gran té 8 caselles"
   ]
  },
  {
   "cell_type": "code",
   "execution_count": 22,
   "metadata": {},
   "outputs": [
    {
     "name": "stdout",
     "output_type": "stream",
     "text": [
      "Component formada per 26 nombres\n",
      "---------------------------------------------------\n",
      "| \u001b[1m\u001b[36m 4\u001b[0m | \u001b[1m\u001b[36m62\u001b[0m | \u001b[1m\u001b[36m90\u001b[0m | \u001b[1m\u001b[36m15\u001b[0m | \u001b[1m\u001b[36m61\u001b[0m | \u001b[1m\u001b[36m23\u001b[0m | \u001b[1m\u001b[36m44\u001b[0m | \u001b[1m\u001b[36m50\u001b[0m | \u001b[1m\u001b[36m 8\u001b[0m | \u001b[1m\u001b[36m28\u001b[0m | \n",
      "---------------------------------------------------\n",
      "| \u001b[1m\u001b[36m 4\u001b[0m | \u001b[1m\u001b[36m89\u001b[0m | \u001b[1m\u001b[36m31\u001b[0m | \u001b[1m\u001b[36m69\u001b[0m | \u001b[1m\u001b[36m 1\u001b[0m | \u001b[1m\u001b[36m39\u001b[0m | \u001b[1m\u001b[36m 3\u001b[0m | \u001b[1m\u001b[36m88\u001b[0m | \u001b[1m\u001b[36m55\u001b[0m | \u001b[1m\u001b[36m 3\u001b[0m | \n",
      "---------------------------------------------------\n",
      "| \u001b[1m\u001b[36m84\u001b[0m | \u001b[1m\u001b[36m45\u001b[0m | \u001b[1m\u001b[36m 3\u001b[0m | \u001b[1m\u001b[36m 1\u001b[0m | \u001b[1m\u001b[31m22\u001b[0m | \u001b[1m\u001b[36m31\u001b[0m | \u001b[1m\u001b[31m48\u001b[0m | \u001b[1m\u001b[36m47\u001b[0m | \u001b[1m\u001b[36m73\u001b[0m | \u001b[1m\u001b[36m16\u001b[0m | \n",
      "---------------------------------------------------\n",
      "| \u001b[1m\u001b[36m50\u001b[0m | \u001b[1m\u001b[36m85\u001b[0m | \u001b[1m\u001b[31m36\u001b[0m | \u001b[1m\u001b[36m 9\u001b[0m | \u001b[1m\u001b[31m32\u001b[0m | \u001b[1m\u001b[31m10\u001b[0m | \u001b[1m\u001b[31m60\u001b[0m | \u001b[1m\u001b[36m47\u001b[0m | \u001b[1m\u001b[36m 1\u001b[0m | \u001b[1m\u001b[36m86\u001b[0m | \n",
      "---------------------------------------------------\n",
      "| \u001b[1m\u001b[36m91\u001b[0m | \u001b[1m\u001b[36m49\u001b[0m | \u001b[1m\u001b[31m18\u001b[0m | \u001b[1m\u001b[31m92\u001b[0m | \u001b[1m\u001b[31m36\u001b[0m | \u001b[1m\u001b[31m98\u001b[0m | \u001b[1m\u001b[31m30\u001b[0m | \u001b[1m\u001b[31m38\u001b[0m | \u001b[1m\u001b[31m 2\u001b[0m | \u001b[1m\u001b[36m 5\u001b[0m | \n",
      "---------------------------------------------------\n",
      "| \u001b[1m\u001b[36m57\u001b[0m | \u001b[1m\u001b[36m73\u001b[0m | \u001b[1m\u001b[31m22\u001b[0m | \u001b[1m\u001b[36m11\u001b[0m | \u001b[1m\u001b[31m 2\u001b[0m | \u001b[1m\u001b[36m43\u001b[0m | \u001b[1m\u001b[31m90\u001b[0m | \u001b[1m\u001b[36m61\u001b[0m | \u001b[1m\u001b[31m84\u001b[0m | \u001b[1m\u001b[36m83\u001b[0m | \n",
      "---------------------------------------------------\n",
      "| \u001b[1m\u001b[36m74\u001b[0m | \u001b[1m\u001b[36m17\u001b[0m | \u001b[1m\u001b[31m14\u001b[0m | \u001b[1m\u001b[36m83\u001b[0m | \u001b[1m\u001b[36m37\u001b[0m | \u001b[1m\u001b[36m87\u001b[0m | \u001b[1m\u001b[31m50\u001b[0m | \u001b[1m\u001b[36m51\u001b[0m | \u001b[1m\u001b[31m14\u001b[0m | \u001b[1m\u001b[36m71\u001b[0m | \n",
      "---------------------------------------------------\n",
      "| \u001b[1m\u001b[36m62\u001b[0m | \u001b[1m\u001b[36m90\u001b[0m | \u001b[1m\u001b[36m15\u001b[0m | \u001b[1m\u001b[36m14\u001b[0m | \u001b[1m\u001b[36m76\u001b[0m | \u001b[1m\u001b[36m39\u001b[0m | \u001b[1m\u001b[31m88\u001b[0m | \u001b[1m\u001b[31m46\u001b[0m | \u001b[1m\u001b[36m53\u001b[0m | \u001b[1m\u001b[36m29\u001b[0m | \n",
      "---------------------------------------------------\n",
      "| \u001b[1m\u001b[36m13\u001b[0m | \u001b[1m\u001b[36m46\u001b[0m | \u001b[1m\u001b[36m53\u001b[0m | \u001b[1m\u001b[36m62\u001b[0m | \u001b[1m\u001b[36m67\u001b[0m | \u001b[1m\u001b[31m 2\u001b[0m | \u001b[1m\u001b[31m44\u001b[0m | \u001b[1m\u001b[31m44\u001b[0m | \u001b[1m\u001b[36m63\u001b[0m | \u001b[1m\u001b[36m45\u001b[0m | \n",
      "---------------------------------------------------\n",
      "| \u001b[1m\u001b[36m24\u001b[0m | \u001b[1m\u001b[36m 9\u001b[0m | \u001b[1m\u001b[36m67\u001b[0m | \u001b[1m\u001b[36m59\u001b[0m | \u001b[1m\u001b[36m79\u001b[0m | \u001b[1m\u001b[31m32\u001b[0m | \u001b[1m\u001b[36m95\u001b[0m | \u001b[1m\u001b[36m 5\u001b[0m | \u001b[1m\u001b[36m56\u001b[0m | \u001b[1m\u001b[36m36\u001b[0m | \n",
      "---------------------------------------------------\n"
     ]
    }
   ],
   "source": [
    "np.random.seed(25)\n",
    "\n",
    "A = np.random.randint(0,100, size=(10,10))\n",
    "idx = max_component(A)\n",
    "display_grid(A, idx) # La component més gran té 26 caselles"
   ]
  },
  {
   "cell_type": "code",
   "execution_count": 23,
   "metadata": {},
   "outputs": [
    {
     "name": "stdout",
     "output_type": "stream",
     "text": [
      "Component formada per 36 nombres\n",
      "----------------------------------------------------------------------------\n",
      "| \u001b[1m\u001b[36m40\u001b[0m | \u001b[1m\u001b[36m15\u001b[0m | \u001b[1m\u001b[31m72\u001b[0m | \u001b[1m\u001b[31m22\u001b[0m | \u001b[1m\u001b[36m43\u001b[0m | \u001b[1m\u001b[36m82\u001b[0m | \u001b[1m\u001b[36m75\u001b[0m | \u001b[1m\u001b[36m 7\u001b[0m | \u001b[1m\u001b[36m34\u001b[0m | \u001b[1m\u001b[36m49\u001b[0m | \u001b[1m\u001b[36m95\u001b[0m | \u001b[1m\u001b[36m75\u001b[0m | \u001b[1m\u001b[36m85\u001b[0m | \u001b[1m\u001b[36m47\u001b[0m | \u001b[1m\u001b[36m63\u001b[0m | \n",
      "----------------------------------------------------------------------------\n",
      "| \u001b[1m\u001b[36m31\u001b[0m | \u001b[1m\u001b[31m90\u001b[0m | \u001b[1m\u001b[31m20\u001b[0m | \u001b[1m\u001b[36m37\u001b[0m | \u001b[1m\u001b[36m39\u001b[0m | \u001b[1m\u001b[36m67\u001b[0m | \u001b[1m\u001b[31m 4\u001b[0m | \u001b[1m\u001b[31m42\u001b[0m | \u001b[1m\u001b[36m51\u001b[0m | \u001b[1m\u001b[31m38\u001b[0m | \u001b[1m\u001b[36m33\u001b[0m | \u001b[1m\u001b[31m58\u001b[0m | \u001b[1m\u001b[36m67\u001b[0m | \u001b[1m\u001b[36m69\u001b[0m | \u001b[1m\u001b[36m88\u001b[0m | \n",
      "----------------------------------------------------------------------------\n",
      "| \u001b[1m\u001b[31m68\u001b[0m | \u001b[1m\u001b[31m46\u001b[0m | \u001b[1m\u001b[31m70\u001b[0m | \u001b[1m\u001b[36m95\u001b[0m | \u001b[1m\u001b[36m83\u001b[0m | \u001b[1m\u001b[36m31\u001b[0m | \u001b[1m\u001b[31m66\u001b[0m | \u001b[1m\u001b[31m80\u001b[0m | \u001b[1m\u001b[31m52\u001b[0m | \u001b[1m\u001b[31m76\u001b[0m | \u001b[1m\u001b[31m50\u001b[0m | \u001b[1m\u001b[31m 4\u001b[0m | \u001b[1m\u001b[31m90\u001b[0m | \u001b[1m\u001b[36m63\u001b[0m | \u001b[1m\u001b[36m79\u001b[0m | \n",
      "----------------------------------------------------------------------------\n",
      "| \u001b[1m\u001b[36m49\u001b[0m | \u001b[1m\u001b[36m39\u001b[0m | \u001b[1m\u001b[31m46\u001b[0m | \u001b[1m\u001b[31m 8\u001b[0m | \u001b[1m\u001b[31m50\u001b[0m | \u001b[1m\u001b[36m15\u001b[0m | \u001b[1m\u001b[31m 8\u001b[0m | \u001b[1m\u001b[36m17\u001b[0m | \u001b[1m\u001b[31m22\u001b[0m | \u001b[1m\u001b[36m73\u001b[0m | \u001b[1m\u001b[36m57\u001b[0m | \u001b[1m\u001b[31m90\u001b[0m | \u001b[1m\u001b[31m62\u001b[0m | \u001b[1m\u001b[36m83\u001b[0m | \u001b[1m\u001b[36m96\u001b[0m | \n",
      "----------------------------------------------------------------------------\n",
      "| \u001b[1m\u001b[36m43\u001b[0m | \u001b[1m\u001b[31m32\u001b[0m | \u001b[1m\u001b[31m26\u001b[0m | \u001b[1m\u001b[31m 8\u001b[0m | \u001b[1m\u001b[31m76\u001b[0m | \u001b[1m\u001b[31m10\u001b[0m | \u001b[1m\u001b[31m40\u001b[0m | \u001b[1m\u001b[31m34\u001b[0m | \u001b[1m\u001b[31m60\u001b[0m | \u001b[1m\u001b[36m 9\u001b[0m | \u001b[1m\u001b[31m70\u001b[0m | \u001b[1m\u001b[31m86\u001b[0m | \u001b[1m\u001b[31m70\u001b[0m | \u001b[1m\u001b[36m19\u001b[0m | \u001b[1m\u001b[36m56\u001b[0m | \n",
      "----------------------------------------------------------------------------\n"
     ]
    }
   ],
   "source": [
    "np.random.seed(2)\n",
    "\n",
    "A = np.random.randint(0,100,size=(5,15))\n",
    "idx = max_component(A)\n",
    "display_grid(A, idx) # La component més gran té 36 caselles"
   ]
  },
  {
   "cell_type": "markdown",
   "metadata": {},
   "source": [
    "<div class=\"alert alert-success\">\n",
    "<h1>Problema 2 (5 punts)</h1>\n",
    "<p>\n",
    "    Tenim una estació d'on arriben i surten trens. Cada tren té una hora d'arribada a l'estació i una hora de sortida. <br>\n",
    "    Implementeu una funció <b>platforms</b> que, donats els horaris dels trens en el format <b>(hora_arribada, hora_sortida)</b>, ens retorni el nombre d'andanes necessàries per a satisfer els horaris dels trens. <br>Com podeu imaginar, dos trens no poden compartir andana durant el mateix període de temps. Considerarem que és possible que un tren arribi a una hora just al mateix moment en que un altre tren marxa utilitzant només una andana.<br>\n",
    "    La solució ha de ser un algorisme <b>greedy</b>.\n",
    "</p>    \n",
    "        \n",
    "</div>"
   ]
  },
  {
   "cell_type": "code",
   "execution_count": 24,
   "metadata": {},
   "outputs": [],
   "source": [
    "def platforms(schedules):\n",
    "    \"\"\"\n",
    "    Calcula el nombre d'andanes necessàries per a poder gestionar un conjunt de trens,\n",
    "    considerant que dos trens no poden compartir andana durant el mateix període de temps.\n",
    "    En el cas que un tren arribi a la mateixa hora que un tren que marxa, es considerarà vàlid fer \n",
    "    servir només una andana.\n",
    "    \n",
    "    Params\n",
    "    ======\n",
    "    :schedules: Una llista formada per tuples de dos elements (hora_arribada, hora_sortida)\n",
    "        :hora_arribada: L'hora en que el tren arriba a l'estació \n",
    "        :hora_sortida: L'hora en que el tren marxa de l'estació\n",
    "    \n",
    "    Returns\n",
    "    =======\n",
    "    :max_platforms: Andanes necessàries per a poder gestionar el conjunt de trens\n",
    "    \"\"\"\n",
    "    \n",
    "    max_platforms = 0 # Andanes necessàries per a poder gestionar el conjunt de trens\n",
    "    \n",
    "    # Ordenem la llista per la hora de sortida \n",
    "    schedules = sorted(schedules, key=lambda x: x[1])\n",
    "\n",
    "    for i in range(len(schedules) - 1):\n",
    "        \n",
    "            # Si l´hora que surt es més tard de la que arriba el següent\n",
    "            if(schedules[i][1] > schedules[i + 1][0]):\n",
    "                \n",
    "                # Necesitarem una altre via.\n",
    "                max_platforms += 1\n",
    "           \n",
    "        \n",
    "    \n",
    "    return max_platforms"
   ]
  },
  {
   "cell_type": "code",
   "execution_count": 25,
   "metadata": {},
   "outputs": [
    {
     "data": {
      "text/plain": [
       "2"
      ]
     },
     "execution_count": 25,
     "metadata": {},
     "output_type": "execute_result"
    }
   ],
   "source": [
    "schedules = [\n",
    "    (1.30, 2.50),\n",
    "    (1.25, 1.50),\n",
    "    (2.30, 2.55),\n",
    "    (1.10, 1.15)\n",
    "]\n",
    "platforms(schedules) # Retorna 2"
   ]
  },
  {
   "cell_type": "code",
   "execution_count": 26,
   "metadata": {},
   "outputs": [
    {
     "data": {
      "text/plain": [
       "3"
      ]
     },
     "execution_count": 26,
     "metadata": {},
     "output_type": "execute_result"
    }
   ],
   "source": [
    "schedules = [\n",
    "    (2.00, 2.30),\n",
    "    (2.10, 3.40),\n",
    "    (3.00, 3.50),\n",
    "    (3.10, 4.30),\n",
    "    (3.50, 4.00),\n",
    "    (5.00, 5.20)\n",
    "]\n",
    "platforms(schedules) # Retorna 3"
   ]
  },
  {
   "cell_type": "code",
   "execution_count": 27,
   "metadata": {},
   "outputs": [
    {
     "data": {
      "text/plain": [
       "3"
      ]
     },
     "execution_count": 27,
     "metadata": {},
     "output_type": "execute_result"
    }
   ],
   "source": [
    "schedules = [\n",
    "    (2.55, 3.10),\n",
    "    (2.50, 4.20),\n",
    "    (3.10, 5.30),\n",
    "    (2.40, 3.40),\n",
    "    (1.20, 2.55)\n",
    "]\n",
    "platforms(schedules) # Retorna 3"
   ]
  },
  {
   "cell_type": "code",
   "execution_count": null,
   "metadata": {},
   "outputs": [],
   "source": []
  }
 ],
 "metadata": {
  "kernelspec": {
   "display_name": "Python 3 (ipykernel)",
   "language": "python",
   "name": "python3"
  },
  "language_info": {
   "codemirror_mode": {
    "name": "ipython",
    "version": 3
   },
   "file_extension": ".py",
   "mimetype": "text/x-python",
   "name": "python",
   "nbconvert_exporter": "python",
   "pygments_lexer": "ipython3",
   "version": "3.9.12"
  }
 },
 "nbformat": 4,
 "nbformat_minor": 4
}
